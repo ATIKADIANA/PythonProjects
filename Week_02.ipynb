{
 "cells": [
  {
   "cell_type": "markdown",
   "id": "5c2b965f",
   "metadata": {},
   "source": [
    "# Week_02"
   ]
  },
  {
   "cell_type": "markdown",
   "id": "e08c4a08",
   "metadata": {},
   "source": [
    "## Comments and Basic Data types"
   ]
  },
  {
   "cell_type": "code",
   "execution_count": 3,
   "id": "b5b9295e",
   "metadata": {},
   "outputs": [],
   "source": [
    "#this is a comment"
   ]
  },
  {
   "cell_type": "code",
   "execution_count": 2,
   "id": "7aa591ff",
   "metadata": {},
   "outputs": [
    {
     "name": "stdout",
     "output_type": "stream",
     "text": [
      "Hello\n"
     ]
    }
   ],
   "source": [
    "print(\"Hello\")                  #This is a comment"
   ]
  },
  {
   "cell_type": "code",
   "execution_count": 6,
   "id": "bac2001f",
   "metadata": {},
   "outputs": [
    {
     "name": "stdout",
     "output_type": "stream",
     "text": [
      "HELLO\n"
     ]
    }
   ],
   "source": [
    "\"\"\"\n",
    "This is a multiline comment\n",
    "This is interesting \n",
    "\"\"\"\n",
    "print(\"HELLO\")             #This is also a comment"
   ]
  },
  {
   "cell_type": "code",
   "execution_count": 1,
   "id": "93fa15ee",
   "metadata": {},
   "outputs": [
    {
     "name": "stdout",
     "output_type": "stream",
     "text": [
      "2\n",
      "3\n",
      "10\n"
     ]
    }
   ],
   "source": [
    "#The following are all integers.\n",
    "print(2)\n",
    "print(3)\n",
    "print(10)"
   ]
  },
  {
   "cell_type": "code",
   "execution_count": 10,
   "id": "cffd6220",
   "metadata": {},
   "outputs": [
    {
     "name": "stdout",
     "output_type": "stream",
     "text": [
      "2.666\n",
      "10.55\n",
      "1.1\n",
      "6.0\n"
     ]
    }
   ],
   "source": [
    "#The following are all floats\n",
    "print(2.666)\n",
    "print(10.55)\n",
    "print(1.1)\n",
    "print(6.0)"
   ]
  },
  {
   "cell_type": "code",
   "execution_count": 11,
   "id": "0c11d801",
   "metadata": {},
   "outputs": [
    {
     "name": "stdout",
     "output_type": "stream",
     "text": [
      "\n",
      "My name is Atika!\n",
      "True\n"
     ]
    }
   ],
   "source": [
    "#The following are strings\n",
    "print(\"\")\n",
    "print(\"My name is Atika!\")\n",
    "print('True')"
   ]
  },
  {
   "cell_type": "code",
   "execution_count": 12,
   "id": "0d4293ff",
   "metadata": {},
   "outputs": [
    {
     "name": "stdout",
     "output_type": "stream",
     "text": [
      "True\n",
      "False\n"
     ]
    }
   ],
   "source": [
    "#The following are Booleans\n",
    "print(True)\n",
    "print(False)"
   ]
  },
  {
   "cell_type": "code",
   "execution_count": 13,
   "id": "a0aa50f3",
   "metadata": {},
   "outputs": [
    {
     "data": {
      "text/plain": [
       "float"
      ]
     },
     "execution_count": 13,
     "metadata": {},
     "output_type": "execute_result"
    }
   ],
   "source": [
    "type(5.5)"
   ]
  },
  {
   "cell_type": "code",
   "execution_count": 14,
   "id": "e4f050dc",
   "metadata": {},
   "outputs": [
    {
     "data": {
      "text/plain": [
       "int"
      ]
     },
     "execution_count": 14,
     "metadata": {},
     "output_type": "execute_result"
    }
   ],
   "source": [
    "type(30)"
   ]
  },
  {
   "cell_type": "code",
   "execution_count": 16,
   "id": "e3cdf621",
   "metadata": {},
   "outputs": [
    {
     "data": {
      "text/plain": [
       "bool"
      ]
     },
     "execution_count": 16,
     "metadata": {},
     "output_type": "execute_result"
    }
   ],
   "source": [
    "type(True)"
   ]
  },
  {
   "cell_type": "code",
   "execution_count": 17,
   "id": "ab559949",
   "metadata": {},
   "outputs": [
    {
     "data": {
      "text/plain": [
       "str"
      ]
     },
     "execution_count": 17,
     "metadata": {},
     "output_type": "execute_result"
    }
   ],
   "source": [
    "type('Dee')"
   ]
  },
  {
   "cell_type": "markdown",
   "id": "b46f88f3",
   "metadata": {},
   "source": [
    "## Variables"
   ]
  },
  {
   "cell_type": "code",
   "execution_count": 2,
   "id": "8758f087",
   "metadata": {},
   "outputs": [
    {
     "name": "stdout",
     "output_type": "stream",
     "text": [
      "5 8.5\n"
     ]
    }
   ],
   "source": [
    "num1=5                             #Storing an integer into a variable\n",
    "num2=8.5                           #Storing an integer ito a  variable\n",
    "print(num1, num2)                  #You can print multiple items using commas"
   ]
  },
  {
   "cell_type": "code",
   "execution_count": 22,
   "id": "f5ee620e",
   "metadata": {},
   "outputs": [
    {
     "name": "stdout",
     "output_type": "stream",
     "text": [
      "True\n"
     ]
    }
   ],
   "source": [
    "#Storing a boolean onto a variable\n",
    "Switch=True\n",
    "print(Switch)"
   ]
  },
  {
   "cell_type": "code",
   "execution_count": 23,
   "id": "524604b1",
   "metadata": {},
   "outputs": [
    {
     "name": "stdout",
     "output_type": "stream",
     "text": [
      "Diana Atika 3\n"
     ]
    }
   ],
   "source": [
    "#Storing strings into avariable\n",
    "Name = \"Diana Atika\"\n",
    "Fav_number = '3'\n",
    "print(Name, Fav_number)"
   ]
  },
  {
   "cell_type": "code",
   "execution_count": 24,
   "id": "0cade9e1",
   "metadata": {},
   "outputs": [
    {
     "name": "stdout",
     "output_type": "stream",
     "text": [
      "13.5\n"
     ]
    }
   ],
   "source": [
    "#Using two variables to create another variable\n",
    "result = num1+num2\n",
    "print(result)"
   ]
  },
  {
   "cell_type": "code",
   "execution_count": 25,
   "id": "9fa9e8d1",
   "metadata": {},
   "outputs": [
    {
     "name": "stdout",
     "output_type": "stream",
     "text": [
      "14.5\n",
      "72.5\n"
     ]
    }
   ],
   "source": [
    "#adding, deleting, multiplyng, dividing from a variable\n",
    "result += 1                                      #same as saying result =result + 1\n",
    "print(result)\n",
    "result *= num1                                   #same as saying result =result * num1\n",
    "print(result)"
   ]
  },
  {
   "cell_type": "code",
   "execution_count": 26,
   "id": "0e52645a",
   "metadata": {},
   "outputs": [
    {
     "name": "stdout",
     "output_type": "stream",
     "text": [
      "John\n",
      "Sam\n"
     ]
    }
   ],
   "source": [
    "#Defining a variable and overwriting its value\n",
    "name = \"John\"\n",
    "print(name)\n",
    "name = \"Sam\"\n",
    "print(name)"
   ]
  },
  {
   "cell_type": "code",
   "execution_count": 28,
   "id": "29e68bc6",
   "metadata": {},
   "outputs": [
    {
     "name": "stdout",
     "output_type": "stream",
     "text": [
      "3 10\n"
     ]
    }
   ],
   "source": [
    "#tuesday exercise_1\n",
    "x = 3\n",
    "y = 10\n",
    "print(x, y)"
   ]
  },
  {
   "cell_type": "code",
   "execution_count": 4,
   "id": "c3cc44fa",
   "metadata": {},
   "outputs": [
    {
     "ename": "NameError",
     "evalue": "name 'x' is not defined",
     "output_type": "error",
     "traceback": [
      "\u001b[1;31m---------------------------------------------------------------------------\u001b[0m",
      "\u001b[1;31mNameError\u001b[0m                                 Traceback (most recent call last)",
      "Cell \u001b[1;32mIn[4], line 1\u001b[0m\n\u001b[1;32m----> 1\u001b[0m result \u001b[38;5;241m=\u001b[39m \u001b[43mx\u001b[49m\u001b[38;5;241m*\u001b[39my\n\u001b[0;32m      2\u001b[0m \u001b[38;5;28mprint\u001b[39m(result)\n\u001b[0;32m      3\u001b[0m result \u001b[38;5;241m=\u001b[39m x\u001b[38;5;241m+\u001b[39my\n",
      "\u001b[1;31mNameError\u001b[0m: name 'x' is not defined"
     ]
    }
   ],
   "source": [
    "result = x*y\n",
    "print(result)\n",
    "result = x+y\n",
    "print (result)"
   ]
  },
  {
   "cell_type": "code",
   "execution_count": 3,
   "id": "f3dccffe",
   "metadata": {},
   "outputs": [
    {
     "name": "stdout",
     "output_type": "stream",
     "text": [
      "13.66 245.54\n",
      "3354.0764\n"
     ]
    }
   ],
   "source": [
    "#tuesday exercise_2\n",
    "width = 13.66\n",
    "length = 245.54\n",
    "print(width, length)\n",
    "result = width * length                   #area calculation\n",
    "print(result)"
   ]
  },
  {
   "cell_type": "markdown",
   "id": "ef6ad722",
   "metadata": {},
   "source": [
    "## Working with strings"
   ]
  },
  {
   "cell_type": "code",
   "execution_count": 4,
   "id": "23678e0c",
   "metadata": {},
   "outputs": [
    {
     "name": "stdout",
     "output_type": "stream",
     "text": [
      "John Smith\n"
     ]
    }
   ],
   "source": [
    "#concatenating strings\n",
    "#using the addition operator without variables\n",
    "name = \"John\" + \" \" + \"Smith\"\n",
    "print(name)"
   ]
  },
  {
   "cell_type": "code",
   "execution_count": 3,
   "id": "b58b7c11",
   "metadata": {},
   "outputs": [
    {
     "name": "stdout",
     "output_type": "stream",
     "text": [
      "John Smith\n"
     ]
    }
   ],
   "source": [
    "#Using the addition operator with variables\n",
    "first_name = \"John\"\n",
    "last_name = \"Smith\"\n",
    "full_name = first_name + \" \" + last_name\n",
    "print(full_name)"
   ]
  },
  {
   "cell_type": "code",
   "execution_count": 8,
   "id": "56570e30",
   "metadata": {},
   "outputs": [
    {
     "name": "stdout",
     "output_type": "stream",
     "text": [
      "Diana\n"
     ]
    }
   ],
   "source": [
    "print('Diana')"
   ]
  },
  {
   "cell_type": "code",
   "execution_count": null,
   "id": "8e57cf00",
   "metadata": {},
   "outputs": [],
   "source": []
  }
 ],
 "metadata": {
  "kernelspec": {
   "display_name": "Python 3 (ipykernel)",
   "language": "python",
   "name": "python3"
  },
  "language_info": {
   "codemirror_mode": {
    "name": "ipython",
    "version": 3
   },
   "file_extension": ".py",
   "mimetype": "text/x-python",
   "name": "python",
   "nbconvert_exporter": "python",
   "pygments_lexer": "ipython3",
   "version": "3.10.9"
  }
 },
 "nbformat": 4,
 "nbformat_minor": 5
}
