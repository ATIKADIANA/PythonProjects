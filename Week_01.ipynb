{
 "cells": [
  {
   "cell_type": "markdown",
   "id": "8268d36e",
   "metadata": {},
   "source": [
    "Week 01"
   ]
  },
  {
   "cell_type": "markdown",
   "id": "10f617be",
   "metadata": {},
   "source": [
    "This is python"
   ]
  },
  {
   "cell_type": "code",
   "execution_count": 1,
   "id": "cdb5239d",
   "metadata": {},
   "outputs": [
    {
     "name": "stdout",
     "output_type": "stream",
     "text": [
      "Hello, buddy\n"
     ]
    }
   ],
   "source": [
    "print(\"Hello, buddy\")"
   ]
  },
  {
   "cell_type": "markdown",
   "id": "f1e6b283",
   "metadata": {},
   "source": [
    "GUESSING GAME"
   ]
  },
  {
   "cell_type": "code",
   "execution_count": 8,
   "id": "c084a4a0",
   "metadata": {},
   "outputs": [
    {
     "ename": "SyntaxError",
     "evalue": "incomplete input (3223386172.py, line 18)",
     "output_type": "error",
     "traceback": [
      "\u001b[1;36m  Cell \u001b[1;32mIn[8], line 18\u001b[1;36m\u001b[0m\n\u001b[1;33m    ## print(\"The number is greater than you guessed.\")\u001b[0m\n\u001b[1;37m                                                       ^\u001b[0m\n\u001b[1;31mSyntaxError\u001b[0m\u001b[1;31m:\u001b[0m incomplete input\n"
     ]
    }
   ],
   "source": [
    "# guessing game \n",
    "from random import randint\n",
    "from IPython.display import clear_output\n",
    "guessed = False\n",
    "number = 3\n",
    "guesses = 0\n",
    "while not guessed:\n",
    "# ans = input(\"Try to guess the number I am thinking of!\")\n",
    "# guesses += 1\n",
    "# clear_output()\n",
    "# if int(ans) == 3\n",
    "## print(\"Congrats! You guessed it correctly.\")\n",
    "## print( \"It took you {} guesses!\".format(guesses) )\n",
    "## break\n",
    "# elif int(ans) > 3\n",
    "## print(\"The number is lower than you guessed.\")\n",
    "# elif int(ant) < 3\n",
    "## print(\"The number is greater than you guessed.\")"
   ]
  },
  {
   "cell_type": "code",
   "execution_count": null,
   "id": "7b8f2095",
   "metadata": {},
   "outputs": [],
   "source": []
  },
  {
   "cell_type": "code",
   "execution_count": null,
   "id": "3053b6bf",
   "metadata": {},
   "outputs": [],
   "source": []
  },
  {
   "cell_type": "code",
   "execution_count": null,
   "id": "20a648e5",
   "metadata": {},
   "outputs": [],
   "source": []
  }
 ],
 "metadata": {
  "kernelspec": {
   "display_name": "Python 3 (ipykernel)",
   "language": "python",
   "name": "python3"
  },
  "language_info": {
   "codemirror_mode": {
    "name": "ipython",
    "version": 3
   },
   "file_extension": ".py",
   "mimetype": "text/x-python",
   "name": "python",
   "nbconvert_exporter": "python",
   "pygments_lexer": "ipython3",
   "version": "3.10.9"
  }
 },
 "nbformat": 4,
 "nbformat_minor": 5
}
